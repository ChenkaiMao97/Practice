{
 "cells": [
  {
   "cell_type": "markdown",
   "metadata": {},
   "source": [
    "bold: **bold**\n",
    "italic: *italic*\n",
    "\n",
    "Let's make some lists:\n",
    "\n",
    "Enumerate people in my lounge and the instruments they play:\n",
    "1. Joe\n",
    "  *guitar\n",
    "  *piano\n",
    "2. Johnny\n",
    "3. Quint\n",
    "4. Yun\n",
    "  *piano\n",
    "  *violin\n",
    "5. Anthony\n",
    "6. David\n",
    "7. Kevin\n",
    "\n"
   ]
  },
  {
   "cell_type": "code",
   "execution_count": null,
   "metadata": {
    "collapsed": true
   },
   "outputs": [],
   "source": []
  }
 ],
 "metadata": {
  "kernelspec": {
   "display_name": "Python 3",
   "language": "python",
   "name": "python3"
  },
  "language_info": {
   "codemirror_mode": {
    "name": "ipython",
    "version": 3
   },
   "file_extension": ".py",
   "mimetype": "text/x-python",
   "name": "python",
   "nbconvert_exporter": "python",
   "pygments_lexer": "ipython3",
   "version": "3.6.1"
  }
 },
 "nbformat": 4,
 "nbformat_minor": 2
}
